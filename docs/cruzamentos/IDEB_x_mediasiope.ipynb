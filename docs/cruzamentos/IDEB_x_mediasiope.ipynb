{
 "cells": [
  {
   "cell_type": "markdown",
   "metadata": {},
   "source": [
    "# Ideb x Média SIOPE\n",
    "\n",
    "Aqui vamos pegar o arquivo que contémas médias de salários pagas por escolas + dados do censo escolar (tamanho da turma e código da escola) e ai vamos filtrar para as séries do ideb que vão receber a prova e juntar as notas do IDEB.\n",
    "\n",
    "Informações sobre ideb:\n",
    "\n",
    "\"Planilhas com resultados\": http://portal.inep.gov.br/artigo/-/asset_publisher/B4AQV9zFY7Bv/content/id/1511536\n",
    "\"Quem não faz a prova?\": https://academia.qedu.org.br/ideb/notas-do-ideb-por-local/\n",
    "\"Nota Técnica do INEP\": http://download.inep.gov.br/educacao_basica/portal_ideb/o_que_sao_as_metas/Artigo_projecoes.pdf\n"
   ]
  },
  {
   "cell_type": "markdown",
   "metadata": {},
   "source": [
    "### Importando e limpando os dados do SIOPE + Censo escolar:"
   ]
  },
  {
   "cell_type": "code",
   "execution_count": 2,
   "metadata": {},
   "outputs": [],
   "source": [
    "import pandas as pd\n",
    "import numpy as np\n",
    "import os\n",
    "import matplotlib.pyplot as plt"
   ]
  },
  {
   "cell_type": "code",
   "execution_count": 3,
   "metadata": {},
   "outputs": [],
   "source": [
    "os.chdir(\"C:/Users/coliv/Documents/R-Projects/qualidade_gastos_educação/analise_gastos_siope/data/Cruzamentos\")\n",
    "siope_sp_escolas = pd.read_csv(\"media_salarios_por_escola.csv\", index_col=0)"
   ]
  },
  {
   "cell_type": "code",
   "execution_count": 4,
   "metadata": {
    "scrolled": true
   },
   "outputs": [
    {
     "name": "stderr",
     "output_type": "stream",
     "text": [
      "c:\\users\\coliv\\appdata\\local\\programs\\python\\python37\\lib\\site-packages\\ipykernel_launcher.py:8: SettingWithCopyWarning: \n",
      "A value is trying to be set on a copy of a slice from a DataFrame.\n",
      "Try using .loc[row_indexer,col_indexer] = value instead\n",
      "\n",
      "See the caveats in the documentation: https://pandas.pydata.org/pandas-docs/stable/user_guide/indexing.html#returning-a-view-versus-a-copy\n",
      "  \n"
     ]
    }
   ],
   "source": [
    "siope_escolas = siope_sp_escolas\n",
    "\n",
    "#Tirando uma coluna unamed xapore que tinha no meu df:\n",
    "siope_escolas = siope_escolas.loc[:, ~siope_escolas.columns.str.contains('^Unnamed')]\n",
    "\n",
    "#Mudando os tipos de coluna num for loop:\n",
    "for col in ['CO_UF', 'CO_MUNICIPIO', 'CO_ENTIDADE']:\n",
    "    siope_escolas[col] = siope_escolas[col].astype('str')\n",
    "\n",
    "#Eu percebi que agregar a etapa de ensino não iria mudar em nada. Ao invés de mudar na parte do \n",
    "# censo (média_salarios_por_escola.ipynb), vou primeiro resolver aqui:\n",
    "\n",
    "siope_escolas = siope_escolas.groupby(['CO_UF', 'CO_MUNICIPIO', \n",
    "                                       'CO_ENTIDADE', 'NO_ENTIDADE', \n",
    "                                       'NO_MUNICIPIO', 'SALARIO_MEDIO', \n",
    "                                       'PERC_PART_FUNDEB' ], as_index = False).agg({'MATRICULAS_POR_ETAPA': 'sum'})\n",
    "\n",
    "#df.rename(columns={\"A\": \"a\", \"B\": \"c\"})\n",
    "siope_escolas = siope_escolas.rename(columns={'MATRICULAS_POR_ETAPA': 'QTDE_MATRICULAS'})"
   ]
  },
  {
   "cell_type": "code",
   "execution_count": 18,
   "metadata": {},
   "outputs": [
    {
     "data": {
      "text/html": [
       "<div>\n",
       "<style scoped>\n",
       "    .dataframe tbody tr th:only-of-type {\n",
       "        vertical-align: middle;\n",
       "    }\n",
       "\n",
       "    .dataframe tbody tr th {\n",
       "        vertical-align: top;\n",
       "    }\n",
       "\n",
       "    .dataframe thead th {\n",
       "        text-align: right;\n",
       "    }\n",
       "</style>\n",
       "<table border=\"1\" class=\"dataframe\">\n",
       "  <thead>\n",
       "    <tr style=\"text-align: right;\">\n",
       "      <th></th>\n",
       "      <th>CO_UF</th>\n",
       "      <th>CO_MUNICIPIO</th>\n",
       "      <th>CO_ENTIDADE</th>\n",
       "      <th>NO_ENTIDADE</th>\n",
       "      <th>NO_MUNICIPIO</th>\n",
       "      <th>SALARIO_MEDIO</th>\n",
       "      <th>PERC_PART_FUNDEB</th>\n",
       "      <th>QTDE_MATRICULAS</th>\n",
       "    </tr>\n",
       "  </thead>\n",
       "  <tbody>\n",
       "    <tr>\n",
       "      <th>0</th>\n",
       "      <td>35</td>\n",
       "      <td>350010</td>\n",
       "      <td>35063113</td>\n",
       "      <td>SONHO DE CRIANCA CICLO I</td>\n",
       "      <td>Adamantina</td>\n",
       "      <td>3434.0</td>\n",
       "      <td>1.0</td>\n",
       "      <td>56</td>\n",
       "    </tr>\n",
       "  </tbody>\n",
       "</table>\n",
       "</div>"
      ],
      "text/plain": [
       "  CO_UF CO_MUNICIPIO CO_ENTIDADE               NO_ENTIDADE NO_MUNICIPIO  \\\n",
       "0    35       350010    35063113  SONHO DE CRIANCA CICLO I   Adamantina   \n",
       "\n",
       "   SALARIO_MEDIO  PERC_PART_FUNDEB  QTDE_MATRICULAS  \n",
       "0         3434.0               1.0               56  "
      ]
     },
     "execution_count": 18,
     "metadata": {},
     "output_type": "execute_result"
    }
   ],
   "source": [
    "#Vendo os tipos:\n",
    "siope_escolas.head(1)"
   ]
  },
  {
   "cell_type": "markdown",
   "metadata": {},
   "source": [
    "### Agora vou finalmente cruzar com o IDEB"
   ]
  },
  {
   "cell_type": "code",
   "execution_count": 5,
   "metadata": {},
   "outputs": [],
   "source": [
    "#Abrindo\n",
    "os.chdir(\"C:/Users/coliv/Documents/R-Projects/qualidade_gastos_educação/analise_gastos_siope/data/IDEB\")\n",
    "ideb_sp = pd.read_excel(\"ideb_sp.xlsx\")"
   ]
  },
  {
   "cell_type": "code",
   "execution_count": 6,
   "metadata": {},
   "outputs": [
    {
     "name": "stderr",
     "output_type": "stream",
     "text": [
      "c:\\users\\coliv\\appdata\\local\\programs\\python\\python37\\lib\\site-packages\\ipykernel_launcher.py:5: SettingWithCopyWarning: \n",
      "A value is trying to be set on a copy of a slice from a DataFrame.\n",
      "Try using .loc[row_indexer,col_indexer] = value instead\n",
      "\n",
      "See the caveats in the documentation: https://pandas.pydata.org/pandas-docs/stable/user_guide/indexing.html#returning-a-view-versus-a-copy\n",
      "  \"\"\"\n"
     ]
    }
   ],
   "source": [
    "ideb = ideb_sp\n",
    "ideb = ideb[['codigo_da_escola', 'ideb_2017_n_x_p', 'periodo']]\n",
    "\n",
    "#Vou consertar o encoding na mão pq é só um:\n",
    "ideb['periodo'] = np.where(ideb.periodo.str.contains('ensino'), 'ensino médio', ideb.periodo)\n",
    "\n",
    "#Normalizando o código da entidade:\n",
    "ideb = ideb.rename(columns = {'codigo_da_escola':'CO_ENTIDADE'})\n",
    "ideb['CO_ENTIDADE'] = ideb['CO_ENTIDADE'].astype('str')"
   ]
  },
  {
   "cell_type": "code",
   "execution_count": 7,
   "metadata": {},
   "outputs": [],
   "source": [
    "siope_ideb = pd.merge(ideb, siope_escolas, on =['CO_ENTIDADE'], how = 'right')\n",
    "siope_ideb['PERC_PART_FUNDEB'] = round(siope_ideb['PERC_PART_FUNDEB'], 2)"
   ]
  },
  {
   "cell_type": "code",
   "execution_count": 8,
   "metadata": {},
   "outputs": [
    {
     "name": "stdout",
     "output_type": "stream",
     "text": [
      "(17104, 3) (13313, 10)\n"
     ]
    }
   ],
   "source": [
    "print(ideb.shape,  siope_ideb.shape)"
   ]
  },
  {
   "cell_type": "code",
   "execution_count": 9,
   "metadata": {},
   "outputs": [
    {
     "data": {
      "text/html": [
       "<div>\n",
       "<style scoped>\n",
       "    .dataframe tbody tr th:only-of-type {\n",
       "        vertical-align: middle;\n",
       "    }\n",
       "\n",
       "    .dataframe tbody tr th {\n",
       "        vertical-align: top;\n",
       "    }\n",
       "\n",
       "    .dataframe thead th {\n",
       "        text-align: right;\n",
       "    }\n",
       "</style>\n",
       "<table border=\"1\" class=\"dataframe\">\n",
       "  <thead>\n",
       "    <tr style=\"text-align: right;\">\n",
       "      <th></th>\n",
       "      <th>CO_ENTIDADE</th>\n",
       "      <th>ideb_2017_n_x_p</th>\n",
       "      <th>periodo</th>\n",
       "      <th>CO_UF</th>\n",
       "      <th>CO_MUNICIPIO</th>\n",
       "      <th>NO_ENTIDADE</th>\n",
       "      <th>NO_MUNICIPIO</th>\n",
       "      <th>SALARIO_MEDIO</th>\n",
       "      <th>PERC_PART_FUNDEB</th>\n",
       "      <th>QTDE_MATRICULAS</th>\n",
       "    </tr>\n",
       "  </thead>\n",
       "  <tbody>\n",
       "    <tr>\n",
       "      <th>0</th>\n",
       "      <td>35079911</td>\n",
       "      <td>65.0</td>\n",
       "      <td>primeiro a quarto ano</td>\n",
       "      <td>35</td>\n",
       "      <td>350010</td>\n",
       "      <td>EURICO LEITE DE MORAIS</td>\n",
       "      <td>Adamantina</td>\n",
       "      <td>3249.0</td>\n",
       "      <td>1.0</td>\n",
       "      <td>169</td>\n",
       "    </tr>\n",
       "  </tbody>\n",
       "</table>\n",
       "</div>"
      ],
      "text/plain": [
       "  CO_ENTIDADE  ideb_2017_n_x_p                periodo CO_UF CO_MUNICIPIO  \\\n",
       "0    35079911             65.0  primeiro a quarto ano    35       350010   \n",
       "\n",
       "              NO_ENTIDADE NO_MUNICIPIO  SALARIO_MEDIO  PERC_PART_FUNDEB  \\\n",
       "0  EURICO LEITE DE MORAIS   Adamantina         3249.0               1.0   \n",
       "\n",
       "   QTDE_MATRICULAS  \n",
       "0              169  "
      ]
     },
     "execution_count": 9,
     "metadata": {},
     "output_type": "execute_result"
    }
   ],
   "source": [
    "siope_ideb.head(1)"
   ]
  },
  {
   "cell_type": "code",
   "execution_count": 41,
   "metadata": {},
   "outputs": [],
   "source": [
    "#Exportando:\n",
    "\n",
    "os.chdir(\"C:/Users/coliv/Documents/R-Projects/qualidade_gastos_educação/analise_gastos_siope/data/Cruzamentos\")\n",
    "siope_ideb.to_csv(r'siope_ideb.csv')"
   ]
  },
  {
   "cell_type": "markdown",
   "metadata": {},
   "source": [
    "## Parte 2: Analises"
   ]
  },
  {
   "cell_type": "code",
   "execution_count": 10,
   "metadata": {},
   "outputs": [
    {
     "data": {
      "text/plain": [
       "<function matplotlib.pyplot.show(*args, **kw)>"
      ]
     },
     "execution_count": 10,
     "metadata": {},
     "output_type": "execute_result"
    },
    {
     "data": {
      "image/png": "[encoded data removed]",
      "text/plain": [
       "<Figure size 432x288 with 1 Axes>"
      ]
     },
     "metadata": {
      "needs_background": "light"
     },
     "output_type": "display_data"
    },
    {
     "data": {
      "text/plain": [
       "<Figure size 1080x360 with 0 Axes>"
      ]
     },
     "metadata": {},
     "output_type": "display_data"
    }
   ],
   "source": [
    "#Tem uns outliers doidos no siope, vamos retirar:\n",
    "df = siope_ideb\n",
    "df = df.query('SALARIO_MEDIO < 10000 ')\n",
    "\n",
    "\n",
    "df.plot(x = 'SALARIO_MEDIO', y = 'ideb_2017_n_x_p', kind = 'scatter')\n",
    "plt.figure(figsize = (15,5))\n",
    "plt.show"
   ]
  }
 ],
 "metadata": {
  "kernelspec": {
   "display_name": "Python 3",
   "language": "python",
   "name": "python3"
  },
  "language_info": {
   "codemirror_mode": {
    "name": "ipython",
    "version": 3
   },
   "file_extension": ".py",
   "mimetype": "text/x-python",
   "name": "python",
   "nbconvert_exporter": "python",
   "pygments_lexer": "ipython3",
   "version": "3.7.3"
  }
 },
 "nbformat": 4,
 "nbformat_minor": 2
}
