{
 "cells": [
  {
   "cell_type": "markdown",
   "metadata": {},
   "source": [
    "## Média Salários por escola\n",
    "\n",
    "O Dataframe que será criado aqui no final né uma junção das informações do SIOPE 2017 e do Censo Escolar.\n",
    "\n",
    "Preciso juntar esses dois dataframes para conseguir cruzar com as informações do IDEB, o que será feito em outro notebook.\n"
   ]
  },
  {
   "cell_type": "markdown",
   "metadata": {},
   "source": [
    "### Dados do Censo Escolar:"
   ]
  },
  {
   "cell_type": "code",
   "execution_count": 2,
   "metadata": {},
   "outputs": [],
   "source": [
    "import pandas as pd\n",
    "import os\n",
    "import janitor\n",
    "import numpy as np"
   ]
  },
  {
   "cell_type": "markdown",
   "metadata": {},
   "source": [
    "Criando o objeto escolas, que terá informações do Censo Escolar.\n",
    "Eu vou juntar com os gastos do SIOPE de maneira a ter o Código da Escola"
   ]
  },
  {
   "cell_type": "code",
   "execution_count": 3,
   "metadata": {},
   "outputs": [],
   "source": [
    "os.chdir('C:/Users/coliv/Documents/R-Projects/qualidade_gastos_educação/arquivos grandes (fora do git)/Microdados_Censo_Escolar_2017/DADOS/ESCOLAS')\n",
    "escolas = pd.read_csv('escolas_sp.csv')\n",
    "\n",
    "# Normalizando os dados:\n",
    "\n",
    "#mudando o nchar de CO_MUNICIPIO para 6\n",
    "escolas['CO_MUNICIPIO'] = escolas['CO_MUNICIPIO'].astype('str')\n",
    "escolas['CO_MUNICIPIO'] = escolas['CO_MUNICIPIO'].str[0:6]\n",
    "\n",
    "#Transofrmando variáveis em 'str'\n",
    "\n",
    "for var in ['CO_UF', 'CO_MUNICIPIO', 'CO_ENTIDADE', 'NO_ENTIDADE']:\n",
    "    escolas[var] = escolas[var].astype('str')"
   ]
  },
  {
   "cell_type": "markdown",
   "metadata": {},
   "source": [
    "Agora abrindo o arquivo do SIOPE "
   ]
  },
  {
   "cell_type": "code",
   "execution_count": 4,
   "metadata": {},
   "outputs": [],
   "source": [
    "os.chdir('C:/Users/coliv/Documents/R-Projects/qualidade_gastos_educação/arquivos grandes (fora do git)/remuneracao_2017')\n",
    "siope_2017_sp_original = pd.read_csv(\"siope_rem_prof_2017.csv\", encoding = \"ISO-8859-1\")"
   ]
  },
  {
   "cell_type": "markdown",
   "metadata": {},
   "source": [
    "Criando uma variável boolean que vai me dizer parte do salário pago ao funcionário registrado naquela linha é custeada com o fundeb (participação do fundeb verdadeira ou falsa)"
   ]
  },
  {
   "cell_type": "code",
   "execution_count": 7,
   "metadata": {},
   "outputs": [],
   "source": [
    "siope_2017_sp_original['PARTICIPACAO_FUNDEB'] = np.where((siope_2017_sp_original.VL_PARC_MINIMA_FUNDEB > 0) |\n",
    "                                                         (siope_2017_sp_original.VL_PARC_MAXIMA_FUNDEB > 0), 1, 0)"
   ]
  },
  {
   "cell_type": "markdown",
   "metadata": {},
   "source": [
    "Agora vou criar mesmo o meu objeto com a média dos salários por escola e percentual de participação do fundeb no pagamento de salários:"
   ]
  },
  {
   "cell_type": "code",
   "execution_count": 8,
   "metadata": {},
   "outputs": [],
   "source": [
    "siope_media = siope_2017_sp_original.groupby(['CO_UF', \n",
    "                                              'CO_MUNICIPIO', \n",
    "                                              'NO_MUNICIPIO', \n",
    "                                              'LOCAL_EXERCICIO'], as_index=False).agg({'VL_TOTAL' : 'mean',\n",
    "                                                                                       'PARTICIPACAO_FUNDEB' : ['sum',\n",
    "                                                                                                                'count']}).round()\n",
    "\n",
    "siope_media.columns = ['CO_UF', 'CO_MUNICIPIO' , 'NO_MUNICIPIO',\n",
    "                      'NO_ENTIDADE', 'SALARIO_MEDIO', 'QTDE_FUNDEB', 'QTDE_TOTAL']\n",
    "\n",
    "siope_media['PERC_PART_FUNDEB'] = siope_media.QTDE_FUNDEB / siope_media.QTDE_TOTAL\n",
    "\n",
    "siope_media = siope_media.drop(['QTDE_FUNDEB', 'QTDE_TOTAL'], axis=1)\n",
    "\n",
    "for col in ['CO_UF', 'CO_MUNICIPIO', 'NO_ENTIDADE']:\n",
    "    siope_media[col] = siope_media[col].astype('str')\n",
    "    \n",
    "# Retirando colunas dentro da lista proc\n",
    "# Retirando as informações de pagamento que são para secretaria municipal ou prefeitura municipal:\n",
    "proc = ['SEC MUN DE EDUC', 'PREFEITURA MUN']\n",
    "siope_media = siope_media[~siope_media.NO_ENTIDADE.str.contains('|'.join(proc))]"
   ]
  },
  {
   "cell_type": "markdown",
   "metadata": {},
   "source": [
    "Agora tenho que fazer o join.\n",
    "Lembrando, a pergunta que eu quero fazer é quanto os municípios gastam por escola? Isso é comparável com o ideb?"
   ]
  },
  {
   "cell_type": "markdown",
   "metadata": {},
   "source": [
    "Antes de fazer o join eu preciso alterar algumas denominações presentes na coluna 'NO_ENTIDADE' para garantir que o resultado do meu merge vai ser alto:\n",
    "\n",
    " - No SIOPE_media, algumas escolas tem o 'tipo' delas no final (EMEI< CMEI, ETC) e outras no começo. Vou apagar tudo\n",
    "\n",
    "Na parte abaixo, o campo ```a = r'\\b' + i + r'\\b'``` é pra criar a REGEX que estabelece que o meu for loop vai procurar exatamente aquela expressão; depois o resultado 'a' desta regex é substituido nos dois loops mais abaixo.   "
   ]
  },
  {
   "cell_type": "code",
   "execution_count": 9,
   "metadata": {},
   "outputs": [],
   "source": [
    "for i in ['ESCOLA DE EDUCACAO ESPECIAL APAE', 'ESCOLA DE EDUCACAO ESPECIAL', 'PROFESSORA', 'PROFESSOR','PROF.', \n",
    "          'PROF', 'CETEC', 'CEMEI', 'EMEIEF', 'ETEC', 'EMEB', 'EMEI', 'CMEI', 'EMEF', 'CEM', 'CEI', \n",
    "          'ESCOLA MUNICIPAL DE ED INFANTIL', 'CR P CONV',\n",
    "          'CENTRO DE EDUCACAO INFANTIL', 'CENTRO MUN DE EDUCACAO INFANTIL', 'CRECHE', 'MUNICIPAL', 'MUN']:\n",
    "    a = r'\\b' + i + r'\\b'   \n",
    "    siope_media['NO_ENTIDADE'] = siope_media.NO_ENTIDADE.str.replace(a, '', regex=True)\n",
    "    escolas['NO_ENTIDADE'] = escolas.NO_ENTIDADE.str.replace(a, '', regex=True)\n",
    "    \n",
    "# Substituindo dr:\n",
    "for df in [siope_media, escolas]: \n",
    "    df['NO_ENTIDADE'] = df.NO_ENTIDADE.str.replace('DOUTORA', 'DRA', regex=False)\n",
    "    df['NO_ENTIDADE'] = df.NO_ENTIDADE.str.replace('DOUTOR', 'DR', regex=False)\n",
    "    \n",
    "#Tirando os whitespaces:\n",
    "for df in [siope_media, escolas]: \n",
    "    df['NO_ENTIDADE'] = df.NO_ENTIDADE.str.replace('(^\\s+|\\s+$)', '', regex=True)\n",
    "    df['NO_ENTIDADE'] = df.NO_ENTIDADE.str.replace('\\s+', ' ', regex=True)"
   ]
  },
  {
   "cell_type": "markdown",
   "metadata": {},
   "source": [
    "Agora vamos ver se as colunas são realmente iguais."
   ]
  },
  {
   "cell_type": "code",
   "execution_count": 10,
   "metadata": {},
   "outputs": [
    {
     "name": "stdout",
     "output_type": "stream",
     "text": [
      "Unnamed: 0                int64\n",
      "CO_UF                    object\n",
      "CO_MUNICIPIO             object\n",
      "CO_ENTIDADE              object\n",
      "TP_ETAPA_ENSINO         float64\n",
      "MATRICULAS_POR_ETAPA      int64\n",
      "NO_ENTIDADE              object\n",
      "TEM_IDEB                   bool\n",
      "dtype: object \n",
      " \n",
      " \n",
      " CO_UF                object\n",
      "CO_MUNICIPIO         object\n",
      "NO_MUNICIPIO         object\n",
      "NO_ENTIDADE          object\n",
      "SALARIO_MEDIO       float64\n",
      "PERC_PART_FUNDEB    float64\n",
      "dtype: object\n"
     ]
    }
   ],
   "source": [
    "print(escolas.dtypes, '\\n \\n \\n', siope_media.dtypes)"
   ]
  },
  {
   "cell_type": "code",
   "execution_count": 11,
   "metadata": {},
   "outputs": [],
   "source": [
    "escolas_siope = escolas.merge(siope_media, on=['CO_UF','CO_MUNICIPIO','NO_ENTIDADE'], how='inner')"
   ]
  },
  {
   "cell_type": "code",
   "execution_count": 12,
   "metadata": {},
   "outputs": [
    {
     "data": {
      "text/plain": [
       "(43575, 11)"
      ]
     },
     "execution_count": 12,
     "metadata": {},
     "output_type": "execute_result"
    }
   ],
   "source": [
    "escolas_siope.shape"
   ]
  },
  {
   "cell_type": "code",
   "execution_count": 14,
   "metadata": {},
   "outputs": [],
   "source": [
    "escolas_siope = escolas_siope.drop_duplicates()"
   ]
  },
  {
   "cell_type": "code",
   "execution_count": 15,
   "metadata": {},
   "outputs": [
    {
     "data": {
      "text/plain": [
       "(43575, 11)"
      ]
     },
     "execution_count": 15,
     "metadata": {},
     "output_type": "execute_result"
    }
   ],
   "source": [
    "escolas_siope.shape #Não tinha duplicata, não acredito!"
   ]
  },
  {
   "cell_type": "markdown",
   "metadata": {},
   "source": [
    "O df do SIOPE, contendo os pagamentos médios por escolas, têm 12.082 escolas únicas registradas. Com essa limpeza de banco conseguimos realizar um match de 93,2%"
   ]
  },
  {
   "cell_type": "markdown",
   "metadata": {},
   "source": [
    "Então meu DF final é uma tabela que contém as seguintes informações:\n",
    "    \n",
    "|coluna|info|\n",
    "|--|--|\n",
    "|CO_UF| Identificador de UF|\n",
    "|CO_MUNICIPIO| Identificador de município com seis dígitos|\n",
    "|TP_ETAPA_ENSINO|Etapa do ensino que constam as informações|\n",
    "|Matrículas por etapa|De acordo com o censo escolar de 2017, quantas crianças foram matriculadas naquela etapa. Se < 20 não existe informação para o ideb nesta série|\n",
    "|NO_ENTIDADE| Nome da escola|\n",
    "|TEM_IDEB| Se de acordo com o número de crianças matriculadas vai ter info da prova do IDEB|\n",
    "|NO_MUNICIPIO| Nome do Município|\n",
    "|SALARIO_MEDIO| Média do salário pago aos profissionais de educação de acordo com as informações do SIOPE 2017|\n",
    "|PERC_PART_FUNDEB| Percentual dos salários da escola que recebem recursos do FUNDEB|"
   ]
  },
  {
   "cell_type": "code",
   "execution_count": 16,
   "metadata": {
    "scrolled": true
   },
   "outputs": [
    {
     "data": {
      "text/html": [
       "<div>\n",
       "<style scoped>\n",
       "    .dataframe tbody tr th:only-of-type {\n",
       "        vertical-align: middle;\n",
       "    }\n",
       "\n",
       "    .dataframe tbody tr th {\n",
       "        vertical-align: top;\n",
       "    }\n",
       "\n",
       "    .dataframe thead th {\n",
       "        text-align: right;\n",
       "    }\n",
       "</style>\n",
       "<table border=\"1\" class=\"dataframe\">\n",
       "  <thead>\n",
       "    <tr style=\"text-align: right;\">\n",
       "      <th></th>\n",
       "      <th>Unnamed: 0</th>\n",
       "      <th>CO_UF</th>\n",
       "      <th>CO_MUNICIPIO</th>\n",
       "      <th>CO_ENTIDADE</th>\n",
       "      <th>TP_ETAPA_ENSINO</th>\n",
       "      <th>MATRICULAS_POR_ETAPA</th>\n",
       "      <th>NO_ENTIDADE</th>\n",
       "      <th>TEM_IDEB</th>\n",
       "      <th>NO_MUNICIPIO</th>\n",
       "      <th>SALARIO_MEDIO</th>\n",
       "      <th>PERC_PART_FUNDEB</th>\n",
       "    </tr>\n",
       "  </thead>\n",
       "  <tbody>\n",
       "    <tr>\n",
       "      <th>0</th>\n",
       "      <td>36</td>\n",
       "      <td>35</td>\n",
       "      <td>350010</td>\n",
       "      <td>35063113</td>\n",
       "      <td>1.0</td>\n",
       "      <td>56</td>\n",
       "      <td>SONHO DE CRIANCA CICLO I</td>\n",
       "      <td>True</td>\n",
       "      <td>Adamantina</td>\n",
       "      <td>3434.0</td>\n",
       "      <td>1.0</td>\n",
       "    </tr>\n",
       "    <tr>\n",
       "      <th>1</th>\n",
       "      <td>37</td>\n",
       "      <td>35</td>\n",
       "      <td>350010</td>\n",
       "      <td>35065262</td>\n",
       "      <td>2.0</td>\n",
       "      <td>172</td>\n",
       "      <td>EULALIA PASCHOAL BRIGHENTI CICLO II</td>\n",
       "      <td>True</td>\n",
       "      <td>Adamantina</td>\n",
       "      <td>5226.0</td>\n",
       "      <td>1.0</td>\n",
       "    </tr>\n",
       "  </tbody>\n",
       "</table>\n",
       "</div>"
      ],
      "text/plain": [
       "   Unnamed: 0 CO_UF CO_MUNICIPIO CO_ENTIDADE  TP_ETAPA_ENSINO  \\\n",
       "0          36    35       350010    35063113              1.0   \n",
       "1          37    35       350010    35065262              2.0   \n",
       "\n",
       "   MATRICULAS_POR_ETAPA                          NO_ENTIDADE  TEM_IDEB  \\\n",
       "0                    56             SONHO DE CRIANCA CICLO I      True   \n",
       "1                   172  EULALIA PASCHOAL BRIGHENTI CICLO II      True   \n",
       "\n",
       "  NO_MUNICIPIO  SALARIO_MEDIO  PERC_PART_FUNDEB  \n",
       "0   Adamantina         3434.0               1.0  \n",
       "1   Adamantina         5226.0               1.0  "
      ]
     },
     "execution_count": 16,
     "metadata": {},
     "output_type": "execute_result"
    }
   ],
   "source": [
    "escolas_siope.head(2)"
   ]
  },
  {
   "cell_type": "markdown",
   "metadata": {},
   "source": [
    "Agora vou exportar essa tabela antes que eu perca tudo (como aconteceu semana passada)"
   ]
  },
  {
   "cell_type": "code",
   "execution_count": 17,
   "metadata": {},
   "outputs": [],
   "source": [
    "os.chdir('C:/Users/coliv/Documents/R-Projects/qualidade_gastos_educação/analise_gastos_siope/data/Cruzamentos')\n",
    "escolas_siope.to_csv(r'media_salarios_por_escola.csv')"
   ]
  }
 ],
 "metadata": {
  "kernelspec": {
   "display_name": "Python 3",
   "language": "python",
   "name": "python3"
  },
  "language_info": {
   "codemirror_mode": {
    "name": "ipython",
    "version": 3
   },
   "file_extension": ".py",
   "mimetype": "text/x-python",
   "name": "python",
   "nbconvert_exporter": "python",
   "pygments_lexer": "ipython3",
   "version": "3.7.3"
  }
 },
 "nbformat": 4,
 "nbformat_minor": 2
}
